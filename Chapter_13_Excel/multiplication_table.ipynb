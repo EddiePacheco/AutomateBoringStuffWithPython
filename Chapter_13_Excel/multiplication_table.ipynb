{
 "cells": [
  {
   "cell_type": "code",
   "execution_count": 1,
   "metadata": {},
   "outputs": [],
   "source": [
    "# This script takes a number N from the command line and creates a multiplication table of NxN in an excel spreadsheet.\n",
    "# Row 1 and column A should be used for labels and should be in bold."
   ]
  },
  {
   "cell_type": "code",
   "execution_count": 5,
   "metadata": {},
   "outputs": [],
   "source": [
    "import openpyxl\n",
    "from openpyxl.styles import Font"
   ]
  },
  {
   "cell_type": "code",
   "execution_count": 6,
   "metadata": {},
   "outputs": [
    {
     "name": "stdout",
     "output_type": "stream",
     "text": [
      "Let's create a multiplication table!\n"
     ]
    }
   ],
   "source": [
    "print('Let\\'s create a multiplication table!')\n",
    "user_input = int(input(\"Enter a number N to create a table of size N x N: \"))"
   ]
  },
  {
   "cell_type": "code",
   "execution_count": 7,
   "metadata": {},
   "outputs": [],
   "source": [
    "wb = openpyxl.Workbook()\n",
    "sheet = wb.active\n",
    "# Create labels in bold.\n",
    "for i in range(2, user_input + 2):\n",
    "    sheet.cell(row=1, column=i).value = i - 1\n",
    "    sheet.cell(row=1, column=i).font = Font(bold=True)\n",
    "    sheet.cell(row=i, column=1).value = i - 1\n",
    "    sheet.cell(row=i, column=1).font = Font(bold=True)\n",
    "\n",
    "# Create multiplication table.\n",
    "for i in range(2, user_input + 2):\n",
    "    for j in range(2, user_input + 2):\n",
    "        sheet.cell(row=i, column=j).value = (i - 1) * (j - 1)\n",
    "\n",
    "wb.save('multiplication_table.xlsx')"
   ]
  },
  {
   "cell_type": "code",
   "execution_count": null,
   "metadata": {},
   "outputs": [],
   "source": []
  }
 ],
 "metadata": {
  "kernelspec": {
   "display_name": ".venv",
   "language": "python",
   "name": "python3"
  },
  "language_info": {
   "codemirror_mode": {
    "name": "ipython",
    "version": 3
   },
   "file_extension": ".py",
   "mimetype": "text/x-python",
   "name": "python",
   "nbconvert_exporter": "python",
   "pygments_lexer": "ipython3",
   "version": "3.11.9"
  }
 },
 "nbformat": 4,
 "nbformat_minor": 2
}
