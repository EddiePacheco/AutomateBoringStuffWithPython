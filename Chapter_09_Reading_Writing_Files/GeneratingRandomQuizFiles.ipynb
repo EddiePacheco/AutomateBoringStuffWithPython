{
 "cells": [
  {
   "cell_type": "code",
   "execution_count": 1,
   "metadata": {},
   "outputs": [],
   "source": [
    "# Pop quiz on US state capitals.\n",
    "# Creates 35 different quizzes.\n",
    "# Creates 50 multiple-choice questions for each quiz, in random order.\n",
    "# Provides the correct answer and three random wrong answers for each question, in random order.\n",
    "# Writes the quizzes to 35 text files.\n",
    "# Writes the answer keys to 35 text files.\n",
    "# This means the code will need to do the following:\n",
    "# Store the states and their capitals in a dictionary.\n",
    "# Call open(), write(), and close() for the quiz and answer key text files.\n",
    "# Use random.shuffle() to randomize the order of the questions and multiple-choice options."
   ]
  },
  {
   "cell_type": "code",
   "execution_count": 2,
   "metadata": {},
   "outputs": [],
   "source": [
    "import random"
   ]
  },
  {
   "cell_type": "code",
   "execution_count": 3,
   "metadata": {},
   "outputs": [],
   "source": [
    "Capitals = {'Alabama': 'Montgomery', 'Alaska': 'Juneau', 'Arizona': 'Phoenix', 'Arkansas': 'Little Rock',\n",
    "            'California': 'Sacramento', 'Colorado': 'Denver', 'Connecticut': 'Hartford', 'Delaware': 'Dover',\n",
    "            'Florida': 'Tallahassee', 'Georgia': 'Atlanta', 'Hawaii': 'Honolulu', 'Idaho': 'Boise',\n",
    "            'Illinois': 'Springfield', 'Indiana': 'Indianapolis', 'Iowa': 'Des Moines', 'Kansas': 'Topeka',\n",
    "            'Kentucky': 'Frankfort', 'Louisiana': 'Baton Rouge', 'Maine': 'Augusta', 'Maryland': 'Annapolis',\n",
    "            'Massachusetts': 'Boston', 'Michigan': 'Lansing', 'Minnesota': 'Saint Paul', 'Mississippi': 'Jackson',\n",
    "            'Missouri': 'Jefferson City', 'Montana': 'Helena', 'Nebraska': 'Lincoln', 'Nevada': 'Carson City',\n",
    "            'New Hampshire': 'Concord', 'New Jersey': 'Trenton', 'New Mexico': 'Santa Fe', 'New York': 'Albany',\n",
    "            'North Carolina': 'Raleigh', 'North Dakota': 'Bismarck', 'Ohio': 'Columbus', 'Oklahoma': 'Oklahoma City',\n",
    "            'Oregon': 'Salem', 'Pennsylvania': 'Harrisburg', 'Rhode Island': 'Providence', 'South Carolina': 'Columbia',\n",
    "            'South Dakota': 'Pierre', 'Tennessee': 'Nashville', 'Texas': 'Austin', 'Utah': 'Salt Lake City',\n",
    "            'Vermont': 'Montpelier', 'Virginia': 'Richmond', 'Washington': 'Olympia', 'West Virginia': 'Charleston',\n",
    "            'Wisconsin': 'Madison', 'Wyoming': 'Cheyenne'\n",
    "}"
   ]
  },
  {
   "cell_type": "code",
   "execution_count": 4,
   "metadata": {},
   "outputs": [],
   "source": [
    "for QuizNum in range(35):\n",
    "    # Create the quiz and answer key files.\n",
    "    QuizFile = open('CapitalsQuiz%s.txt' % (QuizNum + 1), 'w')\n",
    "    AnswerKeyFile = open('CapitalsQuizAnswers%s.txt' % (QuizNum + 1), 'w')\n",
    "    # Write out the header for the quiz.\n",
    "    QuizFile.write('Name:\\n\\nDate:\\n\\nPeriod:\\n\\n')\n",
    "    QuizFile.write((' ' * 20) + 'State Capitals Quiz (Form %s)' % (QuizNum + 1))\n",
    "    QuizFile.write('\\n\\n')\n",
    "    # Shuffle the order of the states.\n",
    "    States = list(Capitals.keys())\n",
    "    random.shuffle(States)\n",
    "    # Loop through all 50 states, making a question for each.\n",
    "    for QuestionNum in range(50):\n",
    "        # Get right and wrong answers.\n",
    "        CorrectAnswer = Capitals[States[QuestionNum]]\n",
    "        WrongAnswers = list(Capitals.values())\n",
    "        del WrongAnswers[WrongAnswers.index(CorrectAnswer)]\n",
    "        WrongAnswers = random.sample(WrongAnswers, 3)\n",
    "        AnswerOptions = WrongAnswers + [CorrectAnswer]\n",
    "        random.shuffle(AnswerOptions)\n",
    "        QuizFile.write(f'{QuestionNum + 1}. What is the capital of {States[QuestionNum]}?\\n')\n",
    "        for i in range(4):\n",
    "            QuizFile.write(f\"    {'ABCD'[i]}. {AnswerOptions[i]}\\n\")\n",
    "        QuizFile.write('\\n')\n",
    "        # Write the answer key to a file.\n",
    "        AnswerKeyFile.write(f\"{QuestionNum + 1}. {'ABCD'[AnswerOptions.index(CorrectAnswer)]}\\n\")\n",
    "    QuizFile.close()\n",
    "    AnswerKeyFile.close()"
   ]
  },
  {
   "cell_type": "code",
   "execution_count": null,
   "metadata": {},
   "outputs": [],
   "source": []
  }
 ],
 "metadata": {
  "kernelspec": {
   "display_name": "Python 3",
   "language": "python",
   "name": "python3"
  },
  "language_info": {
   "codemirror_mode": {
    "name": "ipython",
    "version": 3
   },
   "file_extension": ".py",
   "mimetype": "text/x-python",
   "name": "python",
   "nbconvert_exporter": "python",
   "pygments_lexer": "ipython3",
   "version": "3.11.9"
  }
 },
 "nbformat": 4,
 "nbformat_minor": 2
}
