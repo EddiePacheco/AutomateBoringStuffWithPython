{
 "cells": [
  {
   "cell_type": "code",
   "execution_count": 1,
   "metadata": {},
   "outputs": [],
   "source": [
    "# SelectiveCopy\n",
    "#\n",
    "# This script walks through a folder tree and searches for files with a certain file extension,\n",
    "# such as .pdf or .jpg. It then copies these files from their current location to a new folder.\n",
    "#\n",
    "# Steps:\n",
    "# 1. Import necessary modules.\n",
    "# 2. Define the file extension regex.\n",
    "# 3. Define the function to copy files to the destination folder.\n",
    "# 4. Call the function with the source folder, destination folder, and file extension regex."
   ]
  },
  {
   "cell_type": "code",
   "execution_count": 2,
   "metadata": {},
   "outputs": [],
   "source": [
    "import re, os, shutil\n",
    "from pathlib import Path"
   ]
  },
  {
   "cell_type": "code",
   "execution_count": 4,
   "metadata": {},
   "outputs": [],
   "source": [
    "file_ext_regex = re.compile(r'\\.pdf$') # search for pdf files\n",
    "# file_ext_regex = re.compile(r'\\.jpg$') # search for jpg files"
   ]
  },
  {
   "cell_type": "code",
   "execution_count": null,
   "metadata": {},
   "outputs": [],
   "source": [
    "def copy_to_folder(source_folder, dest_folder, file_ext_regex):\n",
    "    source_folder = Path(source_folder).resolve()\n",
    "    dest_folder = Path(dest_folder).resolve()\n",
    "    dest_folder.mkdir(parents=True, exist_ok=True)\n",
    "    for foldername, subfolders, filenames in os.walk(source_folder):\n",
    "        for filename in filenames:\n",
    "            if file_ext_regex.search(filename):\n",
    "                file_path = os.path.join(foldername, filename)\n",
    "                print(f'Copying {file_path} to {dest_folder}')\n",
    "                shutil.copy(file_path, dest_folder)"
   ]
  },
  {
   "cell_type": "code",
   "execution_count": null,
   "metadata": {},
   "outputs": [],
   "source": [
    "copy_to_folder(Path('source_folder_name'), Path('destination_folder_name'), file_ext_regex)"
   ]
  }
 ],
 "metadata": {
  "kernelspec": {
   "display_name": "Python 3",
   "language": "python",
   "name": "python3"
  },
  "language_info": {
   "codemirror_mode": {
    "name": "ipython",
    "version": 3
   },
   "file_extension": ".py",
   "mimetype": "text/x-python",
   "name": "python",
   "nbconvert_exporter": "python",
   "pygments_lexer": "ipython3",
   "version": "3.9.6"
  }
 },
 "nbformat": 4,
 "nbformat_minor": 2
}
