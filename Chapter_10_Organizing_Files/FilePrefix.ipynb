{
 "cells": [
  {
   "cell_type": "code",
   "execution_count": 1,
   "metadata": {},
   "outputs": [],
   "source": [
    "# Search all files in the current directory.\n",
    "# Apply a prefix to all file names.\n",
    "# Usage: python 3 FilePrefix.ipynb\n",
    "# Create a regex pattern to apply to all files if prefix doesn't exist."
   ]
  },
  {
   "cell_type": "code",
   "execution_count": 7,
   "metadata": {},
   "outputs": [],
   "source": [
    "import re, shutil\n",
    "from pathlib import Path"
   ]
  },
  {
   "cell_type": "code",
   "execution_count": 10,
   "metadata": {},
   "outputs": [],
   "source": [
    "catid_prefix = re.compile(r'DSGNSource_')"
   ]
  },
  {
   "cell_type": "code",
   "execution_count": 11,
   "metadata": {},
   "outputs": [
    {
     "name": "stdout",
     "output_type": "stream",
     "text": [
      "Done\n"
     ]
    }
   ],
   "source": [
    "# Loop through the files in the current working directory.\n",
    "for filename in Path.cwd().glob('*.txt'):\n",
    "    match_object = catid_prefix.search(filename.name)\n",
    "    if match_object:\n",
    "        print(f'Prefix already exists in {filename.name}')\n",
    "        continue\n",
    "    else:\n",
    "        new_filename = f\"{catid_prefix}{filename.name}\"\n",
    "        print(f'Renaming {filename.name} to {new_filename}')\n",
    "        # shutil.move(filename, new_filename)\n",
    "print('Done')"
   ]
  }
 ],
 "metadata": {
  "kernelspec": {
   "display_name": "Python 3",
   "language": "python",
   "name": "python3"
  },
  "language_info": {
   "codemirror_mode": {
    "name": "ipython",
    "version": 3
   },
   "file_extension": ".py",
   "mimetype": "text/x-python",
   "name": "python",
   "nbconvert_exporter": "python",
   "pygments_lexer": "ipython3",
   "version": "3.9.6"
  }
 },
 "nbformat": 4,
 "nbformat_minor": 2
}
