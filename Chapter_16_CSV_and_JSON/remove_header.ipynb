{
 "cells": [
  {
   "cell_type": "code",
   "execution_count": 1,
   "metadata": {},
   "outputs": [],
   "source": [
    "#! python3\n",
    "# remove_header.ipynb - Remove headers from CSV files in the directory.\n",
    "# Find all the CSV files in the current working directory.\n",
    "# Read in the full contents of each file.\n",
    "# Write out the contents, skipping the first row, to a new CSV file.\n",
    "\n",
    "# Step 1: Import the CSV module.\n",
    "# Step 2: Loop over a list of files from os.listdir(), skipping the non-CSV files.\n",
    "# Step 3: Create a CSV reader object and read in the contents of the CSV file.\n",
    "# Step 4: Create a CSV writer object and write out the read-in data to a new CSV file."
   ]
  },
  {
   "cell_type": "code",
   "execution_count": 3,
   "metadata": {},
   "outputs": [],
   "source": [
    "# Import the CSV module.\n",
    "import csv, os, logging\n",
    "logging.basicConfig(filename='remove_header_log.txt', level=logging.DEBUG, format='%(asctime)s - %(levelname)s - %(message)s')"
   ]
  },
  {
   "cell_type": "code",
   "execution_count": 4,
   "metadata": {},
   "outputs": [],
   "source": [
    "# logging.disable(logging.CRITICAL)"
   ]
  },
  {
   "cell_type": "code",
   "execution_count": 6,
   "metadata": {},
   "outputs": [
    {
     "name": "stdout",
     "output_type": "stream",
     "text": [
      "Removing header from example.csv...\n",
      "Removing header from output.csv...\n",
      "Removing header from exampleWithHeader.csv...\n"
     ]
    }
   ],
   "source": [
    "os.makedirs('header_removed', exist_ok=True)\n",
    "\n",
    "# Loop over a list of files from os.listdir(), skipping the non-CSV files.\n",
    "for csv_filename in os.listdir('.'):\n",
    "    if not csv_filename.endswith('.csv'):\n",
    "        continue\n",
    "    logging.info(f'Removing header from {csv_filename}...')\n",
    "    print(f'Removing header from {csv_filename}...')\n",
    "    csv_rows = []\n",
    "    try:\n",
    "        csv_file_obj = open(csv_filename)\n",
    "        logging.info(f'Opened {csv_filename} successfully.')\n",
    "    except Exception as e:\n",
    "        logging.error(f'Failed to open {csv_filename}: {e}')\n",
    "        continue\n",
    "\n",
    "    # Create a CSV reader object and read in the contents of the CSV file.\n",
    "    csv_reader = csv.reader(csv_file_obj)\n",
    "    for row in csv_reader:\n",
    "        if csv_reader.line_num == 1:\n",
    "            continue\n",
    "        csv_rows.append(row)\n",
    "    csv_file_obj.close()\n",
    "    logging.info(f'Read {csv_filename} successfully.')\n",
    "\n",
    "    try:\n",
    "        csv_file_out_obj = open(os.path.join('header_removed', csv_filename), 'w', newline='')\n",
    "        logging.info(f'Opened {os.path.join('header_removed', csv_filename)} for writing successfully.')\n",
    "    except Exception as e:\n",
    "        logging.error(f'Failed to open {os.path.join('header_removed', csv_filename)} for writing: {e}')\n",
    "        continue\n",
    "\n",
    "    # Create a CSV writer object and write out the read-in data to a new CSV file.\n",
    "    csv_writer = csv.writer(csv_file_out_obj)\n",
    "    for row in csv_rows:\n",
    "        csv_writer.writerow(row)\n",
    "    csv_file_out_obj.close()\n",
    "    logging.info(f'Wrote to {os.path.join('header_removed', csv_filename)} successfully.')\n"
   ]
  },
  {
   "cell_type": "code",
   "execution_count": null,
   "metadata": {},
   "outputs": [],
   "source": []
  }
 ],
 "metadata": {
  "kernelspec": {
   "display_name": "Python 3",
   "language": "python",
   "name": "python3"
  },
  "language_info": {
   "codemirror_mode": {
    "name": "ipython",
    "version": 3
   },
   "file_extension": ".py",
   "mimetype": "text/x-python",
   "name": "python",
   "nbconvert_exporter": "python",
   "pygments_lexer": "ipython3",
   "version": "3.9.6"
  }
 },
 "nbformat": 4,
 "nbformat_minor": 2
}
