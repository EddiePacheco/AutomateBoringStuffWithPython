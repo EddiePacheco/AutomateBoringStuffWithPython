{
 "cells": [
  {
   "cell_type": "code",
   "execution_count": 1,
   "metadata": {},
   "outputs": [],
   "source": [
    "# Spreadsheet with Produce and Prices\n",
    "# This script finds specific kinds of produce and updates their prices.\n",
    "\n",
    "# Step 1: Loop over all rows\n",
    "# Step 2: If the row is for garlic, celery, or lemons, update the price."
   ]
  },
  {
   "cell_type": "code",
   "execution_count": 5,
   "metadata": {},
   "outputs": [],
   "source": [
    "import openpyxl, os"
   ]
  },
  {
   "cell_type": "code",
   "execution_count": 7,
   "metadata": {},
   "outputs": [],
   "source": [
    "os.chdir('/Users/eddiepacheco/Desktop/Code/automate_online-materials')"
   ]
  },
  {
   "cell_type": "code",
   "execution_count": 8,
   "metadata": {},
   "outputs": [],
   "source": [
    "produce_wb = openpyxl.load_workbook('produceSales.xlsx')"
   ]
  },
  {
   "cell_type": "code",
   "execution_count": 9,
   "metadata": {},
   "outputs": [],
   "source": [
    "sheet = produce_wb['Sheet']"
   ]
  },
  {
   "cell_type": "code",
   "execution_count": 10,
   "metadata": {},
   "outputs": [],
   "source": [
    "# The produce types and their updated prices\n",
    "PRICE_UPDATES = {\n",
    "    'Garlic': 3.07,\n",
    "    'Celery': 1.19,\n",
    "    'Lemon': 1.27\n",
    "}"
   ]
  },
  {
   "cell_type": "code",
   "execution_count": 11,
   "metadata": {},
   "outputs": [],
   "source": [
    "for row_num in range(2, sheet.max_row + 1):\n",
    "    produce_name = sheet.cell(row=row_num, column=1).value\n",
    "    if produce_name in PRICE_UPDATES:\n",
    "        sheet.cell(row=row_num, column=2).value = PRICE_UPDATES[produce_name]\n",
    "\n",
    "produce_wb.save('updatedProduceSales_01.xlsx')"
   ]
  },
  {
   "cell_type": "code",
   "execution_count": null,
   "metadata": {},
   "outputs": [],
   "source": []
  }
 ],
 "metadata": {
  "kernelspec": {
   "display_name": "Python 3",
   "language": "python",
   "name": "python3"
  },
  "language_info": {
   "codemirror_mode": {
    "name": "ipython",
    "version": 3
   },
   "file_extension": ".py",
   "mimetype": "text/x-python",
   "name": "python",
   "nbconvert_exporter": "python",
   "pygments_lexer": "ipython3",
   "version": "3.9.6"
  }
 },
 "nbformat": 4,
 "nbformat_minor": 2
}
