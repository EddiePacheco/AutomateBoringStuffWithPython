{
 "cells": [
  {
   "cell_type": "code",
   "execution_count": 2,
   "metadata": {},
   "outputs": [],
   "source": [
    "import pyinputplus as pyip\n",
    "import random\n",
    "import time"
   ]
  },
  {
   "cell_type": "code",
   "execution_count": 3,
   "metadata": {},
   "outputs": [],
   "source": [
    "NumberOfQuestions = 10\n",
    "CorrectAnswers = 0"
   ]
  },
  {
   "cell_type": "code",
   "execution_count": 4,
   "metadata": {},
   "outputs": [
    {
     "name": "stdout",
     "output_type": "stream",
     "text": [
      "#0: 1 x 6 = Correct!\n",
      "#1: 3 x 4 = Correct!\n",
      "#2: 9 x 8 = Correct!\n",
      "#3: 2 x 4 = Correct!\n",
      "#4: 7 x 9 = Correct!\n",
      "#5: 9 x 0 = Correct!\n",
      "#6: 0 x 0 = Correct!\n",
      "#7: 1 x 1 = Correct!\n",
      "#8: 6 x 8 = Correct!\n",
      "#9: 1 x 3 = Incorrect!\n",
      "Out of time!\n",
      "Score: 9 / 10\n"
     ]
    }
   ],
   "source": [
    "for QuestionNumber in range(NumberOfQuestions):\n",
    "    # pick two random numbers\n",
    "    num1 = random.randint(0, 9)\n",
    "    num2 = random.randint(0, 9)\n",
    "\n",
    "    prompt = '#%s: %s x %s = ' % (QuestionNumber, num1, num2)\n",
    "\n",
    "    try:\n",
    "        pyip.inputStr(prompt, allowRegexes=['^%s$' % (num1 * num2)], blockRegexes=[('.*', 'Incorrect!')], timeout=8, limit=3)\n",
    "    except pyip.TimeoutException:\n",
    "        print('Out of time!')\n",
    "    except pyip.RetryLimitException:\n",
    "        print('Out of tries!')\n",
    "\n",
    "    else:\n",
    "        print('Correct!')\n",
    "        CorrectAnswers += 1\n",
    "\n",
    "    time.sleep(1)  # Brief pause to let user see the result.\n",
    "print('Score: %s / %s' % (CorrectAnswers, NumberOfQuestions))"
   ]
  },
  {
   "cell_type": "code",
   "execution_count": null,
   "metadata": {},
   "outputs": [],
   "source": []
  }
 ],
 "metadata": {
  "kernelspec": {
   "display_name": "Python 3",
   "language": "python",
   "name": "python3"
  },
  "language_info": {
   "codemirror_mode": {
    "name": "ipython",
    "version": 3
   },
   "file_extension": ".py",
   "mimetype": "text/x-python",
   "name": "python",
   "nbconvert_exporter": "python",
   "pygments_lexer": "ipython3",
   "version": "3.11.9"
  }
 },
 "nbformat": 4,
 "nbformat_minor": 2
}
