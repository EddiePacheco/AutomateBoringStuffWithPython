{
 "cells": [
  {
   "cell_type": "code",
   "execution_count": 1,
   "metadata": {},
   "outputs": [],
   "source": [
    "# Debugging Coin Toss\n",
    "# The following program is meant to be a simple coin toss guessing game. \n",
    "# The player gets two guesses (it’s an easy game). \n",
    "# However, the program has several bugs in it. \n",
    "# Run through the program a few times to find the bugs that keep the program from working correctly."
   ]
  },
  {
   "cell_type": "code",
   "execution_count": 9,
   "metadata": {},
   "outputs": [
    {
     "name": "stdout",
     "output_type": "stream",
     "text": [
      "Guess the coin toss! Enter heads or tails:\n",
      "You got it!\n"
     ]
    }
   ],
   "source": [
    "import random\n",
    "import logging\n",
    "logging.basicConfig(level=logging.DEBUG, format='%(asctime)s - %(levelname)s - %(message)s')\n",
    "logging.disable(logging.CRITICAL)\n",
    "guess = ''\n",
    "while guess not in ('heads', 'tails'):\n",
    "    print('Guess the coin toss! Enter heads or tails:')\n",
    "    guess = input()\n",
    "    logging.debug('User guess 1: ' + guess)\n",
    "toss = random.randint(0, 1) # 0 is tails, 1 is heads\n",
    "# toss values need to be converted to string to compare with guess\n",
    "toss = 'heads' if toss == 1 else 'tails' # int values converted to string\n",
    "if toss == guess:\n",
    "    logging.debug('Toss: ' + str(toss))\n",
    "    logging.debug('Guess: ' + guess)\n",
    "    print('You got it!')\n",
    "else:\n",
    "    print('Nope! Guess again!')\n",
    "    guess = input() # guess variable was mistyped as guesss\n",
    "    logging.debug('User guess 2: ' + guess)\n",
    "    logging.debug('Toss: ' + str(toss))\n",
    "    if toss == guess:\n",
    "        print('You got it!')\n",
    "        logging.debug('Toss: ' + str(toss))\n",
    "    else:\n",
    "        print('Nope. You are really bad at this game.')"
   ]
  },
  {
   "cell_type": "code",
   "execution_count": null,
   "metadata": {},
   "outputs": [],
   "source": []
  }
 ],
 "metadata": {
  "kernelspec": {
   "display_name": "Python 3",
   "language": "python",
   "name": "python3"
  },
  "language_info": {
   "codemirror_mode": {
    "name": "ipython",
    "version": 3
   },
   "file_extension": ".py",
   "mimetype": "text/x-python",
   "name": "python",
   "nbconvert_exporter": "python",
   "pygments_lexer": "ipython3",
   "version": "3.9.6"
  }
 },
 "nbformat": 4,
 "nbformat_minor": 2
}
