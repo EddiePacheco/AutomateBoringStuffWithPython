{
 "cells": [
  {
   "cell_type": "code",
   "execution_count": 52,
   "metadata": {},
   "outputs": [],
   "source": [
    "# Get the text from a clipboard.\n",
    "# Find all phone numbers and email addresses in the text.\n",
    "# Past them onto clipboard.\n",
    "# - pyperclip module to copy and paste strings\n",
    "# - two regexes, one for phone numbers and one for email addresses\n",
    "# - find all matches, not just the first match, of both regexes\n",
    "# - neatly format the matched strings into a single string to paste\n",
    "# - display some kind of message if no matches were found in the text"
   ]
  },
  {
   "cell_type": "code",
   "execution_count": 53,
   "metadata": {},
   "outputs": [],
   "source": [
    "# Install pyperclip package\n",
    "\n",
    "import pyperclip, re\n",
    "\n",
    "PhoneRegex = re.compile(r'''(\n",
    "                        (\\d{3}|\\(\\d{3}\\))? # area code\n",
    "                        (\\s|-|\\.)? # separator\n",
    "                        (\\d{3}) # first 3 digits\n",
    "                        (\\s|-|\\.) # separator\n",
    "                        (\\d{4}) # last 4 digits\n",
    "                        (\\s*(ext|x|ext.)\\s*(\\d{2,5}))? # extension\n",
    "                        )''', re.VERBOSE)"
   ]
  },
  {
   "cell_type": "code",
   "execution_count": 54,
   "metadata": {},
   "outputs": [],
   "source": [
    "EmailRegex = re.compile(r'''(\n",
    "                        [a-zA-Z0-9._%+-]+ # username\n",
    "                        @ # @ symbol\n",
    "                        [a-zA-Z0-9.-]+ # domain name\n",
    "                        (\\.[a-zA-Z]{2,4}) # dot-something\n",
    "                        )''', re.VERBOSE)"
   ]
  },
  {
   "cell_type": "code",
   "execution_count": 55,
   "metadata": {},
   "outputs": [],
   "source": [
    "Text = str(pyperclip.paste())\n",
    "Matches = []\n",
    "for groups in PhoneRegex.findall(Text):\n",
    "    PhoneNum = '-'.join([groups[1], groups[3], groups[5]])\n",
    "    if groups[6] != '':\n",
    "        PhoneNum += ' x' + groups[6]\n",
    "    Matches.append(PhoneNum)\n",
    "for groups in EmailRegex.findall(Text):\n",
    "    Matches.append(groups[0])"
   ]
  },
  {
   "cell_type": "code",
   "execution_count": 56,
   "metadata": {},
   "outputs": [
    {
     "name": "stdout",
     "output_type": "stream",
     "text": [
      "Copied to clipboard:\n",
      "-010-4093\n",
      "800-420-7240\n",
      "415-863-9900\n",
      "415-863-9950\n",
      "support@nostarch.com\n",
      "info@nostarch.com\n",
      "sales@nostarch.com\n",
      "academic@nostarch.com\n",
      "conferences@nostarch.com\n",
      "errata@nostarch.com\n",
      "media@nostarch.com\n",
      "editors@nostarch.com\n",
      "rights@nostarch.com\n",
      "support@nostarch.com\n"
     ]
    }
   ],
   "source": [
    "if len(Matches) > 0:\n",
    "    pyperclip.copy('\\n'.join(Matches))\n",
    "    print('Copied to clipboard:')\n",
    "    print('\\n'.join(Matches))\n",
    "else:\n",
    "    print('No phone numbers or email addresses found.')"
   ]
  }
 ],
 "metadata": {
  "kernelspec": {
   "display_name": "Python 3",
   "language": "python",
   "name": "python3"
  },
  "language_info": {
   "codemirror_mode": {
    "name": "ipython",
    "version": 3
   },
   "file_extension": ".py",
   "mimetype": "text/x-python",
   "name": "python",
   "nbconvert_exporter": "python",
   "pygments_lexer": "ipython3",
   "version": "3.11.9"
  }
 },
 "nbformat": 4,
 "nbformat_minor": 2
}
