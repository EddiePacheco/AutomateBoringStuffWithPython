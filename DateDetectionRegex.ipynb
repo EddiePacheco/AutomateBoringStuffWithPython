{
 "cells": [
  {
   "cell_type": "code",
   "execution_count": 34,
   "metadata": {},
   "outputs": [
    {
     "name": "stdout",
     "output_type": "stream",
     "text": [
      "The date is valid.\n",
      "Day: 31\n",
      "Month: 12\n",
      "Year: 2020\n"
     ]
    }
   ],
   "source": [
    "# A regex program that detects dates in the DD/MM/YYYY format.\n",
    "# Days range from 01 to 31, months range from 01 to 12, and years range from 1000 to 2999.\n",
    "# Note that if the day or month is a single digit, it must be preceded by a 0.\n",
    "# The date does not have to be a valid date.\n",
    "# Store the date in three separate groups, so that you can easily access the day, month, and year.\n",
    "# Write code that detects if the date is valid or not.\n",
    "# Leap years should be taken into consideration, but the code does not have to check for them.\n",
    "\n",
    "import re\n",
    "\n",
    "DateRegex = re.compile(r'^(0[1-9]|1[0-9]|2[0-9]|3[0-1])/(0[1-9]|1[0-2])/([1-2][0-9]{3})$')\n",
    "\n",
    "TestData = '31/12/2020'\n",
    "\n",
    "Match = DateRegex.search(TestData)\n",
    "\n",
    "if Match:\n",
    "    DaysGroup  = Match.group(1)\n",
    "    MonthsGroup = Match.group(2)\n",
    "    YearsGroup = Match.group(3)\n",
    "\n",
    "    # Check if the date is valid\n",
    "\n",
    "    if int(DaysGroup) > 31 or int(MonthsGroup) > 12 or int(YearsGroup) < 1000 or int(YearsGroup) > 2999:\n",
    "        print('The date is invalid.')\n",
    "    else:\n",
    "        print('The date is valid.')\n",
    "        print('Day:', DaysGroup)\n",
    "        print('Month:', MonthsGroup)\n",
    "        print('Year:', YearsGroup)\n",
    "else:\n",
    "    print('No valid date found.')"
   ]
  },
  {
   "cell_type": "code",
   "execution_count": null,
   "metadata": {},
   "outputs": [],
   "source": []
  }
 ],
 "metadata": {
  "kernelspec": {
   "display_name": "Python 3",
   "language": "python",
   "name": "python3"
  },
  "language_info": {
   "codemirror_mode": {
    "name": "ipython",
    "version": 3
   },
   "file_extension": ".py",
   "mimetype": "text/x-python",
   "name": "python",
   "nbconvert_exporter": "python",
   "pygments_lexer": "ipython3",
   "version": "3.11.9"
  }
 },
 "nbformat": 4,
 "nbformat_minor": 2
}
