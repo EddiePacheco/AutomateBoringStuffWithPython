{
 "cells": [
  {
   "cell_type": "code",
   "execution_count": 1,
   "metadata": {},
   "outputs": [
    {
     "ename": "ValueError",
     "evalue": "day is out of range for month",
     "output_type": "error",
     "traceback": [
      "\u001b[1;31m---------------------------------------------------------------------------\u001b[0m",
      "\u001b[1;31mValueError\u001b[0m                                Traceback (most recent call last)",
      "Cell \u001b[1;32mIn[1], line 25\u001b[0m\n\u001b[0;32m     23\u001b[0m dates \u001b[38;5;241m=\u001b[39m []\n\u001b[0;32m     24\u001b[0m \u001b[38;5;28;01mfor\u001b[39;00m _ \u001b[38;5;129;01min\u001b[39;00m \u001b[38;5;28mrange\u001b[39m(\u001b[38;5;241m1000\u001b[39m):\n\u001b[1;32m---> 25\u001b[0m     random_date \u001b[38;5;241m=\u001b[39m \u001b[43mgenerate_random_date\u001b[49m\u001b[43m(\u001b[49m\u001b[43m)\u001b[49m\n\u001b[0;32m     26\u001b[0m     format_type \u001b[38;5;241m=\u001b[39m random\u001b[38;5;241m.\u001b[39mrandint(\u001b[38;5;241m1\u001b[39m, \u001b[38;5;241m5\u001b[39m)  \u001b[38;5;66;03m# Randomly choose a format type\u001b[39;00m\n\u001b[0;32m     27\u001b[0m     formatted_date \u001b[38;5;241m=\u001b[39m format_date(random_date, format_type)\n",
      "Cell \u001b[1;32mIn[1], line 8\u001b[0m, in \u001b[0;36mgenerate_random_date\u001b[1;34m()\u001b[0m\n\u001b[0;32m      6\u001b[0m month \u001b[38;5;241m=\u001b[39m random\u001b[38;5;241m.\u001b[39mrandint(\u001b[38;5;241m1\u001b[39m, \u001b[38;5;241m12\u001b[39m)\n\u001b[0;32m      7\u001b[0m day \u001b[38;5;241m=\u001b[39m random\u001b[38;5;241m.\u001b[39mrandint(\u001b[38;5;241m1\u001b[39m, \u001b[38;5;241m31\u001b[39m)  \u001b[38;5;66;03m# To avoid complications with different month lengths\u001b[39;00m\n\u001b[1;32m----> 8\u001b[0m \u001b[38;5;28;01mreturn\u001b[39;00m \u001b[43mdatetime\u001b[49m\u001b[38;5;241;43m.\u001b[39;49m\u001b[43mdate\u001b[49m\u001b[43m(\u001b[49m\u001b[43myear\u001b[49m\u001b[43m,\u001b[49m\u001b[43m \u001b[49m\u001b[43mmonth\u001b[49m\u001b[43m,\u001b[49m\u001b[43m \u001b[49m\u001b[43mday\u001b[49m\u001b[43m)\u001b[49m\n",
      "\u001b[1;31mValueError\u001b[0m: day is out of range for month"
     ]
    }
   ],
   "source": [
    "import random\n",
    "import datetime\n",
    "\n",
    "def generate_random_date():\n",
    "    year = random.randint(1900, 2100)\n",
    "    month = random.randint(1, 12)\n",
    "    day = random.randint(1, 28)  # To avoid complications with different month lengths\n",
    "    return datetime.date(year, month, day)\n",
    "\n",
    "def format_date(date, format_type):\n",
    "    if format_type == 1:\n",
    "        return date.strftime('%d/%m/%Y')  # DD/MM/YYYY\n",
    "    elif format_type == 2:\n",
    "        return date.strftime('%m-%d-%Y')  # MM-DD-YYYY\n",
    "    elif format_type == 3:\n",
    "        return date.strftime('%Y.%m.%d')  # YYYY.MM.DD\n",
    "    elif format_type == 4:\n",
    "        return date.strftime('%d-%b-%Y')  # DD-MMM-YYYY\n",
    "    else:\n",
    "        return date.strftime('%Y/%m/%d')  # YYYY/MM/DD\n",
    "\n",
    "# Generate 1000 dates\n",
    "dates = []\n",
    "for _ in range(1000):\n",
    "    random_date = generate_random_date()\n",
    "    format_type = random.randint(1, 5)  # Randomly choose a format type\n",
    "    formatted_date = format_date(random_date, format_type)\n",
    "    dates.append(formatted_date)\n",
    "\n",
    "# Export to a text file\n",
    "with open('dates.txt', 'w') as file:\n",
    "    for date in dates:\n",
    "        file.write(date + '\\n')\n",
    "\n",
    "print(\"1000 dates have been generated and exported to 'dates.txt'.\")"
   ]
  },
  {
   "cell_type": "code",
   "execution_count": null,
   "metadata": {},
   "outputs": [],
   "source": []
  }
 ],
 "metadata": {
  "kernelspec": {
   "display_name": "Python 3",
   "language": "python",
   "name": "python3"
  },
  "language_info": {
   "codemirror_mode": {
    "name": "ipython",
    "version": 3
   },
   "file_extension": ".py",
   "mimetype": "text/x-python",
   "name": "python",
   "nbconvert_exporter": "python",
   "pygments_lexer": "ipython3",
   "version": "3.11.9"
  }
 },
 "nbformat": 4,
 "nbformat_minor": 2
}
