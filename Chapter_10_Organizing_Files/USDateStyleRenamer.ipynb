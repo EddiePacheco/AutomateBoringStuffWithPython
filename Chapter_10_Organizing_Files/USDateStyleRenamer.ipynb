{
 "cells": [
  {
   "cell_type": "code",
   "execution_count": 1,
   "metadata": {},
   "outputs": [],
   "source": [
    "# Search all the filenames in the current directory for American-style dates.\n",
    "# If found, rename the file with the European-style date.\n",
    "# Usage: python3 USDateStyleRenamer.ipynb\n",
    "# Create a regex that can identify the text pattern of American-style dates.\n",
    "# Call os.listdir() to find all the files in the working directory.\n",
    "# Loop over each filename, using the regex to check whether it has a date.\n",
    "# If it has a date, rename the file with shutil.move()."
   ]
  },
  {
   "cell_type": "code",
   "execution_count": 2,
   "metadata": {},
   "outputs": [],
   "source": [
    "import re, os, shutil\n",
    "from pathlib import Path"
   ]
  },
  {
   "cell_type": "code",
   "execution_count": 3,
   "metadata": {},
   "outputs": [],
   "source": [
    "USDateRegex = re.compile(r\"\"\"\n",
    "    ^(.*?)                # all text before the date\n",
    "    ((0|1)?\\d)-           # one or two digits for the month\n",
    "    ((0|1|2|3)?\\d)-       # one or two digits for the day\n",
    "    ((19|20)\\d\\d)         # four digits for the year\n",
    "    (.*?)$                # all text after the date\n",
    "    \"\"\", re.VERBOSE)"
   ]
  },
  {
   "cell_type": "code",
   "execution_count": 4,
   "metadata": {},
   "outputs": [],
   "source": [
    "current_directory = Path('.')\n",
    "\n",
    "for filename in current_directory.iterdir():\n",
    "    if not filename.is_file():\n",
    "        continue\n",
    "\n",
    "    match = USDateRegex.search(filename.name)\n",
    "    if not match:\n",
    "        continue\n",
    "\n",
    "    before_part = match.group(1)\n",
    "    month_part = match.group(2)\n",
    "    day_part = match.group(4)\n",
    "    year_part = match.group(6)\n",
    "    after_part = match.group(7)\n",
    "\n",
    "    euro_date_filename = f\"{before_part}{day_part}-{month_part}-{year_part}{after_part}\"\n",
    "\n",
    "    abs_us_date_file = filename.resolve()\n",
    "    abs_euro_date_file = current_directory / euro_date_filename\n",
    "\n",
    "    print(f'Renaming \"{abs_us_date_file}\" to \"{abs_euro_date_file}\"...')\n",
    "\n",
    "    shutil.move(str(abs_us_date_file), str(abs_euro_date_file))"
   ]
  }
 ],
 "metadata": {
  "kernelspec": {
   "display_name": "Python 3",
   "language": "python",
   "name": "python3"
  },
  "language_info": {
   "codemirror_mode": {
    "name": "ipython",
    "version": 3
   },
   "file_extension": ".py",
   "mimetype": "text/x-python",
   "name": "python",
   "nbconvert_exporter": "python",
   "pygments_lexer": "ipython3",
   "version": "3.9.6"
  }
 },
 "nbformat": 4,
 "nbformat_minor": 2
}
