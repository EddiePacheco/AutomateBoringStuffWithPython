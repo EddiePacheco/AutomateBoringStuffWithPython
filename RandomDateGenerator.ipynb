{
 "cells": [
  {
   "cell_type": "code",
   "execution_count": 2,
   "metadata": {},
   "outputs": [
    {
     "name": "stdout",
     "output_type": "stream",
     "text": [
      "1000 dates have been generated and exported to 'dates.txt'.\n"
     ]
    }
   ],
   "source": [
    "import random\n",
    "import datetime\n",
    "\n",
    "def generate_random_date():\n",
    "    year = random.randint(1900, 2100)\n",
    "    month = random.randint(1, 12)\n",
    "    day = random.randint(1, 28)  # To avoid complications with different month lengths\n",
    "    return datetime.date(year, month, day)\n",
    "\n",
    "def format_date(date, format_type):\n",
    "    if format_type == 1:\n",
    "        return date.strftime('%d/%m/%Y')  # DD/MM/YYYY\n",
    "    elif format_type == 2:\n",
    "        return date.strftime('%m-%d-%Y')  # MM-DD-YYYY\n",
    "    elif format_type == 3:\n",
    "        return date.strftime('%Y.%m.%d')  # YYYY.MM.DD\n",
    "    elif format_type == 4:\n",
    "        return date.strftime('%d-%b-%Y')  # DD-MMM-YYYY\n",
    "    else:\n",
    "        return date.strftime('%Y/%m/%d')  # YYYY/MM/DD\n",
    "\n",
    "# Generate 1000 dates\n",
    "dates = []\n",
    "for _ in range(1000):\n",
    "    random_date = generate_random_date()\n",
    "    format_type = random.randint(1, 5)  # Randomly choose a format type\n",
    "    formatted_date = format_date(random_date, format_type)\n",
    "    dates.append(formatted_date)\n",
    "\n",
    "# Export to a text file\n",
    "with open('dates.txt', 'w') as file:\n",
    "    for date in dates:\n",
    "        file.write(date + '\\n')\n",
    "\n",
    "print(\"1000 dates have been generated and exported to 'dates.txt'.\")"
   ]
  },
  {
   "cell_type": "code",
   "execution_count": null,
   "metadata": {},
   "outputs": [],
   "source": []
  }
 ],
 "metadata": {
  "kernelspec": {
   "display_name": "Python 3",
   "language": "python",
   "name": "python3"
  },
  "language_info": {
   "codemirror_mode": {
    "name": "ipython",
    "version": 3
   },
   "file_extension": ".py",
   "mimetype": "text/x-python",
   "name": "python",
   "nbconvert_exporter": "python",
   "pygments_lexer": "ipython3",
   "version": "3.11.9"
  }
 },
 "nbformat": 4,
 "nbformat_minor": 2
}
