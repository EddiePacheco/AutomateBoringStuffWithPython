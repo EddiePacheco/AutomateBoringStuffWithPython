{
 "cells": [
  {
   "cell_type": "markdown",
   "metadata": {},
   "source": [
    "# BackupToZip\n",
    "\n",
    "This script backs up a folder into a ZIP file whose filename increments.\n",
    "\n",
    "## Steps:\n",
    "1. Import necessary modules.\n",
    "2. Define the backup function.\n",
    "3. Call the function with the desired folder to back up.\n"
   ]
  },
  {
   "cell_type": "code",
   "execution_count": null,
   "metadata": {},
   "outputs": [],
   "source": [
    "# Step 1: Import necessary modules\n",
    "import zipfile, os\n",
    "from pathlib import Path"
   ]
  },
  {
   "cell_type": "code",
   "execution_count": null,
   "metadata": {},
   "outputs": [],
   "source": [
    "def backup_to_zip(folder):\n",
    "    # Make sure the folder path is absolute.\n",
    "    folder = Path(folder).resolve()\n",
    "\n",
    "    # Figure out the filename this code should use based on what files already exist.\n",
    "    number = 1\n",
    "    while True:\n",
    "        zip_filename = folder / (folder.name + '_' + str(number) + '.zip')\n",
    "        if not zip_filename.exists():\n",
    "            break\n",
    "        number += 1\n",
    "    \n",
    "    # Create the ZIP file.\n",
    "    print(f'Creating {zip_filename}...')\n",
    "    backup_zip = zipfile.ZipFile(zip_filename, 'w')\n",
    "\n",
    "    # Compress the files in each folder of the entire folder tree.\n",
    "    for foldername, subfolders, filenames in os.walk(folder):\n",
    "        print(f'Adding files in {foldername}...')\n",
    "        # Add the current folder to the ZIP file.\n",
    "        backup_zip.write(foldername)\n",
    "\n",
    "        # Add all the files in this folder to the ZIP file.\n",
    "        for filename in filenames:\n",
    "            new_base = folder / os.path.basename(folder) + '_'\n",
    "            if filename.startswith(new_base) and filename.endswith('.zip'):\n",
    "                continue\n",
    "            backup_zip.write(os.path.join(foldername, filename))\n",
    "    backup_zip.close()\n",
    "\n",
    "    print('Done!')\n",
    "\n",
    "# Step 2: Call the function with the folder you want to back up.\n",
    "backup_to_zip(Path('path_to_folder'))"
   ]
  }
 ],
 "metadata": {
  "language_info": {
   "name": "python"
  }
 },
 "nbformat": 4,
 "nbformat_minor": 2
}
