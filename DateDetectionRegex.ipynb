{
 "cells": [
  {
   "cell_type": "code",
   "execution_count": null,
   "metadata": {},
   "outputs": [
    {
     "ename": "TypeError",
     "evalue": "expected string or bytes-like object, got 'list'",
     "output_type": "error",
     "traceback": [
      "\u001b[1;31m---------------------------------------------------------------------------\u001b[0m",
      "\u001b[1;31mTypeError\u001b[0m                                 Traceback (most recent call last)",
      "Cell \u001b[1;32mIn[38], line 16\u001b[0m\n\u001b[0;32m     13\u001b[0m \u001b[38;5;28;01mwith\u001b[39;00m \u001b[38;5;28mopen\u001b[39m(\u001b[38;5;124m'\u001b[39m\u001b[38;5;124mdates.txt\u001b[39m\u001b[38;5;124m'\u001b[39m, \u001b[38;5;124m'\u001b[39m\u001b[38;5;124mr\u001b[39m\u001b[38;5;124m'\u001b[39m) \u001b[38;5;28;01mas\u001b[39;00m file:\n\u001b[0;32m     14\u001b[0m     TestData \u001b[38;5;241m=\u001b[39m file\u001b[38;5;241m.\u001b[39mreadlines()\n\u001b[1;32m---> 16\u001b[0m Match \u001b[38;5;241m=\u001b[39m \u001b[43mDateRegex\u001b[49m\u001b[38;5;241;43m.\u001b[39;49m\u001b[43msearch\u001b[49m\u001b[43m(\u001b[49m\u001b[43mTestData\u001b[49m\u001b[43m)\u001b[49m\n\u001b[0;32m     18\u001b[0m \u001b[38;5;28;01mdef\u001b[39;00m \u001b[38;5;21mIsLeapYear\u001b[39m(Year):\n\u001b[0;32m     19\u001b[0m     \u001b[38;5;28;01mreturn\u001b[39;00m (Year \u001b[38;5;241m%\u001b[39m \u001b[38;5;241m4\u001b[39m \u001b[38;5;241m==\u001b[39m \u001b[38;5;241m0\u001b[39m \u001b[38;5;129;01mand\u001b[39;00m Year \u001b[38;5;241m%\u001b[39m \u001b[38;5;241m100\u001b[39m \u001b[38;5;241m!=\u001b[39m \u001b[38;5;241m0\u001b[39m) \u001b[38;5;129;01mor\u001b[39;00m (Year \u001b[38;5;241m%\u001b[39m \u001b[38;5;241m400\u001b[39m \u001b[38;5;241m==\u001b[39m \u001b[38;5;241m0\u001b[39m)\n",
      "\u001b[1;31mTypeError\u001b[0m: expected string or bytes-like object, got 'list'"
     ]
    }
   ],
   "source": [
    "# A regex program that detects dates in the DD/MM/YYYY format.\n",
    "# Days range from 01 to 31, months range from 01 to 12, and years range from 1000 to 2999.\n",
    "# Note that if the day or month is a single digit, it must be preceded by a 0.\n",
    "# The date does not have to be a valid date.\n",
    "# Store the date in three separate groups, so that you can easily access the day, month, and year.\n",
    "# Write code that detects if the date is valid or not.\n",
    "# Leap years should be taken into consideration, but the code does not have to check for them.\n",
    "\n",
    "import re\n",
    "\n",
    "DateRegex = re.compile(r'^(0[1-9]|1[0-9]|2[0-9]|3[0-1])/(0[1-9]|1[0-2])/([1-2][0-9]{3})$')\n",
    "\n",
    "def IsLeapYear(Year):\n",
    "    return (Year % 4 == 0 and Year % 100 != 0) or (Year % 400 == 0)\n",
    "\n",
    "def IsValidDate(Day, Month, Year):\n",
    "    day = int(Day)\n",
    "    month = int(Month)\n",
    "    year = int(Year)\n",
    "\n",
    "    if month == 2:\n",
    "        if IsLeapYear(year):\n",
    "            return day <= 29\n",
    "        else:\n",
    "            return day <= 28\n",
    "    elif month in [4, 6, 9, 11]:\n",
    "        return day <= 30\n",
    "    else:\n",
    "        return day <= 31\n",
    "    \n",
    "with open('dates.txt', 'r') as file:\n",
    "    TestData = file.readlines()\n",
    "\n",
    "for Date in TestData:\n",
    "    Date = Date.strip()\n",
    "    Match = DateRegex.match(Date)\n",
    "    if Match:\n",
    "        day, month, year = Match.groups()\n",
    "        if IsValidDate(day, month, year):\n",
    "            print(f'{Date} is a valid date.')\n",
    "            print('Day:', day)\n",
    "            print('Month:', month)\n",
    "            print('Year:', year)\n",
    "        else:\n",
    "            print(f'{Date} is not a valid date.')\n",
    "    else:\n",
    "        print(f'{Date} is not a valid date.')"
   ]
  },
  {
   "cell_type": "code",
   "execution_count": null,
   "metadata": {},
   "outputs": [],
   "source": []
  }
 ],
 "metadata": {
  "kernelspec": {
   "display_name": "Python 3",
   "language": "python",
   "name": "python3"
  },
  "language_info": {
   "codemirror_mode": {
    "name": "ipython",
    "version": 3
   },
   "file_extension": ".py",
   "mimetype": "text/x-python",
   "name": "python",
   "nbconvert_exporter": "python",
   "pygments_lexer": "ipython3",
   "version": "3.11.9"
  }
 },
 "nbformat": 4,
 "nbformat_minor": 2
}
