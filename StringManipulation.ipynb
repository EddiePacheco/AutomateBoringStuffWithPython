{
 "cells": [
  {
   "cell_type": "markdown",
   "metadata": {},
   "source": [
    "Connected to Python 3.11.9"
   ]
  },
  {
   "cell_type": "code",
   "execution_count": 1,
   "id": "4820aa20-b048-40ac-9002-467eb0f3aa01",
   "metadata": {},
   "outputs": [
    {
     "name": "stdout",
     "output_type": "stream",
     "text": [
      "Match found: 100\n"
     ]
    },
    {
     "data": {
      "text/plain": [
       "'Batwoman'"
      ]
     },
     "execution_count": 1,
     "metadata": {},
     "output_type": "execute_result"
    }
   ],
   "source": [
    "import re\n",
    "\n",
    "# Compile a regular expression pattern into a regular expression object\n",
    "pattern = re.compile(r'\\d+')\n",
    "\n",
    "# Use the pattern to search for digits in a string\n",
    "match = pattern.search('The price is 100 dollars')\n",
    "\n",
    "if match:\n",
    "    print(f\"Match found: {match.group()}\")\n",
    "else:\n",
    "    print(\"No match found\")\n",
    "\n",
    "BatRegex = re.compile(r'Bat(wo)+man')\n",
    "mo1 = BatRegex.search('The Adventures of Batwoman')\n",
    "mo1.group()"
   ]
  },
  {
   "cell_type": "markdown",
   "metadata": {},
   "source": [
    "Restarted Python 3.11.9"
   ]
  },
  {
   "cell_type": "code",
   "execution_count": 3,
   "id": "4cff0460-f206-46d1-b991-986dbbb9ae46",
   "metadata": {},
   "outputs": [
    {
     "name": "stdout",
     "output_type": "stream",
     "text": [
      "Match found: 100\n"
     ]
    },
    {
     "data": {
      "text/plain": [
       "'Batwowowowowoman'"
      ]
     },
     "execution_count": 3,
     "metadata": {},
     "output_type": "execute_result"
    }
   ],
   "source": [
    "import re\n",
    "\n",
    "# Compile a regular expression pattern into a regular expression object\n",
    "pattern = re.compile(r'\\d+')\n",
    "\n",
    "# Use the pattern to search for digits in a string\n",
    "match = pattern.search('The price is 100 dollars')\n",
    "\n",
    "if match:\n",
    "    print(f\"Match found: {match.group()}\")\n",
    "else:\n",
    "    print(\"No match found\")\n",
    "\n",
    "BatRegex = re.compile(r'Bat(wo)+man')\n",
    "mo1 = BatRegex.search('The Adventures of Batwoman')\n",
    "mo1.group()\n",
    "\n",
    "mo2 = BatRegex.search('The Adventures of Batwowowowowoman')\n",
    "mo2.group()"
   ]
  },
  {
   "cell_type": "code",
   "execution_count": 4,
   "metadata": {},
   "outputs": [
    {
     "data": {
      "text/plain": [
       "'HaHaHa'"
      ]
     },
     "execution_count": 4,
     "metadata": {},
     "output_type": "execute_result"
    }
   ],
   "source": [
    "HaRegex = re.compile(r'(Ha){3}')\n",
    "mo1 = HaRegex.search('HaHaHa')\n",
    "mo1.group()"
   ]
  },
  {
   "cell_type": "code",
   "execution_count": 5,
   "metadata": {},
   "outputs": [
    {
     "data": {
      "text/plain": [
       "True"
      ]
     },
     "execution_count": 5,
     "metadata": {},
     "output_type": "execute_result"
    }
   ],
   "source": [
    "mo2 = HaRegex.search('Ha')\n",
    "mo2 == None"
   ]
  },
  {
   "cell_type": "code",
   "execution_count": 18,
   "metadata": {},
   "outputs": [
    {
     "name": "stdout",
     "output_type": "stream",
     "text": [
      "HaHaHa\n"
     ]
    }
   ],
   "source": [
    "NonGreedyHaRegex = re.compile(r'(Ha){3,5}?')\n",
    "mo1 = NonGreedyHaRegex.search('HaHaHaHaHa')\n",
    "if mo1 is not None:\n",
    "    print(mo1.group())\n",
    "else: print('No match found')"
   ]
  },
  {
   "cell_type": "code",
   "execution_count": 19,
   "metadata": {},
   "outputs": [
    {
     "data": {
      "text/plain": [
       "['415-555-9999', '212-555-0000']"
      ]
     },
     "execution_count": 19,
     "metadata": {},
     "output_type": "execute_result"
    }
   ],
   "source": [
    "PhoneNumRegex = re.compile(r'\\d{3}-\\d{3}-\\d{4}')\n",
    "PhoneNumRegex.findall('Cell: 415-555-9999 Work: 212-555-0000')"
   ]
  },
  {
   "cell_type": "code",
   "execution_count": 20,
   "metadata": {},
   "outputs": [
    {
     "data": {
      "text/plain": [
       "re.Pattern"
      ]
     },
     "execution_count": 20,
     "metadata": {},
     "output_type": "execute_result"
    }
   ],
   "source": [
    "type(PhoneNumRegex)"
   ]
  },
  {
   "cell_type": "code",
   "execution_count": 21,
   "metadata": {},
   "outputs": [
    {
     "data": {
      "text/plain": [
       "['o', 'o', 'o', 'e', 'a', 'a', 'o', 'o', 'A', 'O', 'O']"
      ]
     },
     "execution_count": 21,
     "metadata": {},
     "output_type": "execute_result"
    }
   ],
   "source": [
    "VowelRegex = re.compile(r'[aeiouAEIOU]')\n",
    "VowelRegex.findall('Robocop eats baby food. BABY FOOD.')"
   ]
  },
  {
   "cell_type": "code",
   "execution_count": 22,
   "metadata": {},
   "outputs": [
    {
     "data": {
      "text/plain": [
       "['R',\n",
       " 'b',\n",
       " 'c',\n",
       " 'p',\n",
       " ' ',\n",
       " 't',\n",
       " 's',\n",
       " ' ',\n",
       " 'b',\n",
       " 'b',\n",
       " 'y',\n",
       " ' ',\n",
       " 'f',\n",
       " 'd',\n",
       " '.',\n",
       " ' ',\n",
       " 'B',\n",
       " 'B',\n",
       " 'Y',\n",
       " ' ',\n",
       " 'F',\n",
       " 'D',\n",
       " '.']"
      ]
     },
     "execution_count": 22,
     "metadata": {},
     "output_type": "execute_result"
    }
   ],
   "source": [
    "ConsonantRegex = re.compile(r'[^aeiouAEIOU]')\n",
    "ConsonantRegex.findall('Robocop eats baby food. BABY FOOD.')"
   ]
  },
  {
   "cell_type": "code",
   "execution_count": 23,
   "metadata": {},
   "outputs": [
    {
     "data": {
      "text/plain": [
       "['cat', 'hat', 'sat', 'lat', 'mat']"
      ]
     },
     "execution_count": 23,
     "metadata": {},
     "output_type": "execute_result"
    }
   ],
   "source": [
    "AtRegex = re.compile(r'.at')\n",
    "AtRegex.findall('The cat in the hat sat on the flat mat.')"
   ]
  },
  {
   "cell_type": "code",
   "execution_count": 24,
   "metadata": {},
   "outputs": [
    {
     "data": {
      "text/plain": [
       "'Al'"
      ]
     },
     "execution_count": 24,
     "metadata": {},
     "output_type": "execute_result"
    }
   ],
   "source": [
    "NameRegex = re.compile(r'First Name: (.*) Last Name: (.*)')\n",
    "mo = NameRegex.search('First Name: Al Last Name: Sweigart')\n",
    "mo.group(1)"
   ]
  },
  {
   "cell_type": "code",
   "execution_count": 25,
   "metadata": {},
   "outputs": [
    {
     "data": {
      "text/plain": [
       "'Sweigart'"
      ]
     },
     "execution_count": 25,
     "metadata": {},
     "output_type": "execute_result"
    }
   ],
   "source": [
    "mo.group(2)"
   ]
  },
  {
   "cell_type": "code",
   "execution_count": 27,
   "metadata": {},
   "outputs": [
    {
     "data": {
      "text/plain": [
       "'Serve the public trust.'"
      ]
     },
     "execution_count": 27,
     "metadata": {},
     "output_type": "execute_result"
    }
   ],
   "source": [
    "NoNewLineRegex = re.compile('.*')\n",
    "NoNewLineRegex.search('Serve the public trust.\\nProtect the innocent.\\nUphold the law.').group()"
   ]
  },
  {
   "cell_type": "code",
   "execution_count": 28,
   "metadata": {},
   "outputs": [
    {
     "data": {
      "text/plain": [
       "'Serve the public trust.\\nProtect the innocent.\\nUphold the law.'"
      ]
     },
     "execution_count": 28,
     "metadata": {},
     "output_type": "execute_result"
    }
   ],
   "source": [
    "NewLineRegex = re.compile('.*', re.DOTALL)\n",
    "NewLineRegex.search('Serve the public trust.\\nProtect the innocent.\\nUphold the law.').group()"
   ]
  },
  {
   "cell_type": "code",
   "execution_count": 29,
   "metadata": {},
   "outputs": [
    {
     "data": {
      "text/plain": [
       "'Robocop'"
      ]
     },
     "execution_count": 29,
     "metadata": {},
     "output_type": "execute_result"
    }
   ],
   "source": [
    "# re.IGNORECASE or re.I\n",
    "robocop = re.compile(r'robocop', re.I)\n",
    "robocop.search('Robocop is part man, part machine, all cop.').group()"
   ]
  },
  {
   "cell_type": "code",
   "execution_count": 30,
   "metadata": {},
   "outputs": [
    {
     "data": {
      "text/plain": [
       "'CENSORED gave the secret documents to CENSORED.'"
      ]
     },
     "execution_count": 30,
     "metadata": {},
     "output_type": "execute_result"
    }
   ],
   "source": [
    "# re.sub()\n",
    "NamesRegex = re.compile(r'Agent \\w+')\n",
    "NamesRegex.sub('CENSORED', 'Agent Alice gave the secret documents to Agent Bob.')"
   ]
  },
  {
   "cell_type": "code",
   "execution_count": 31,
   "metadata": {},
   "outputs": [
    {
     "data": {
      "text/plain": [
       "'A**** told C**** that E**** knew B**** was a double agent.'"
      ]
     },
     "execution_count": 31,
     "metadata": {},
     "output_type": "execute_result"
    }
   ],
   "source": [
    "AgentNamesRegex = re.compile(r'Agent (\\w)\\w*')\n",
    "AgentNamesRegex.sub(r'\\1****', 'Agent Alice told Agent Carol that Agent Eve knew Agent Bob was a double agent.')"
   ]
  },
  {
   "cell_type": "code",
   "execution_count": 32,
   "metadata": {},
   "outputs": [
    {
     "data": {
      "text/plain": [
       "['12',\n",
       " 'drummers',\n",
       " 'drumming',\n",
       " '11',\n",
       " 'pipers',\n",
       " 'piping',\n",
       " '10',\n",
       " 'lords',\n",
       " 'a',\n",
       " 'leaping']"
      ]
     },
     "execution_count": 32,
     "metadata": {},
     "output_type": "execute_result"
    }
   ],
   "source": [
    "NumLowerCaseRegex = re.compile(r'[0-9a-z]+')\n",
    "NumLowerCaseRegex.findall('12 drummers drumming, 11 pipers piping, 10 lords a-leaping')"
   ]
  },
  {
   "cell_type": "code",
   "execution_count": 33,
   "metadata": {},
   "outputs": [
    {
     "data": {
      "text/plain": [
       "'X drummers, X pipers, X lords, X ladies, X maids, X swans, X geese, X rings, X birds, X hens, X doves, X partridge'"
      ]
     },
     "execution_count": 33,
     "metadata": {},
     "output_type": "execute_result"
    }
   ],
   "source": [
    "NumXRegex = re.compile(r'\\d+') # \\d is shorthand for [0-9]\n",
    "NumXRegex.sub('X', '12 drummers, 11 pipers, 10 lords, 9 ladies, 8 maids, 7 swans, 6 geese, 5 rings, 4 birds, 3 hens, 2 doves, 1 partridge')"
   ]
  },
  {
   "cell_type": "code",
   "execution_count": 47,
   "metadata": {},
   "outputs": [
    {
     "name": "stdout",
     "output_type": "stream",
     "text": [
      "42 is a valid number\n",
      "1,234 is a valid number\n",
      "6,368,745 is a valid number\n",
      "12,34,567 is not a valid number\n",
      "1234 is not a valid number\n"
     ]
    }
   ],
   "source": [
    "NumThreeDigitRegex = re.compile(r'^\\d{1,3}(,\\d{3})*$')\n",
    "TestStrings = ['42', '1,234', '6,368,745', '12,34,567', '1234']\n",
    "for test in TestStrings:\n",
    "    if NumThreeDigitRegex.search(test):\n",
    "        print(f\"{test} is a valid number\")\n",
    "    else:\n",
    "        print(f\"{test} is not a valid number\")"
   ]
  },
  {
   "cell_type": "code",
   "execution_count": 49,
   "metadata": {},
   "outputs": [
    {
     "name": "stdout",
     "output_type": "stream",
     "text": [
      "Haruto watanabe is not a valid name.\n",
      "B Watanabe is not a valid name.\n",
      "Ty Watanabe is a valid name.\n",
      "Alice Watanabe is a valid name.\n",
      "RoboCop Watanabe is a valid name.\n",
      "haruto Watanabe is not a valid name.\n",
      "Mr. Watanabe is not a valid name.\n",
      "Watanabe is not a valid name.\n"
     ]
    }
   ],
   "source": [
    "FullNameRegex = re.compile(r'[A-Z][a-z]+\\sWatanabe')\n",
    "TestNames = ['Haruto watanabe', 'B Watanabe', 'Ty Watanabe', 'Alice Watanabe', 'RoboCop Watanabe', 'haruto Watanabe', 'Mr. Watanabe', 'Watanabe']\n",
    "for name in TestNames:\n",
    "    if FullNameRegex.search(name):\n",
    "        print(f\"{name} is a valid name.\")\n",
    "    else:\n",
    "        print(f\"{name} is not a valid name.\")"
   ]
  },
  {
   "cell_type": "code",
   "execution_count": 51,
   "metadata": {},
   "outputs": [
    {
     "name": "stdout",
     "output_type": "stream",
     "text": [
      "Alice eats apples. is a valid sentence.\n",
      "Bob pets cats. is a valid sentence.\n",
      "Carol throws baseballs. is a valid sentence.\n",
      "Alice throws Apples. is a valid sentence.\n",
      "BOB EATS CATS. is a valid sentence.\n",
      "RoboCop eats apples. is not a valid sentence.\n",
      "ALICE THROWS FOOTBALLS. is not a valid sentence.\n",
      "Carol eats 7 cats. is not a valid sentence.\n"
     ]
    }
   ],
   "source": [
    "SentenceRegex = re.compile(r'(Alice|Bob|Carol)\\s(eats|pets|throws)\\s(apples|cats|baseballs)\\.', re.IGNORECASE)\n",
    "TestSentences = ['Alice eats apples.', 'Bob pets cats.', 'Carol throws baseballs.', 'Alice throws Apples.', 'BOB EATS CATS.', 'RoboCop eats apples.', 'ALICE THROWS FOOTBALLS.', 'Carol eats 7 cats.']\n",
    "for sentence in TestSentences:\n",
    "    if SentenceRegex.search(sentence):\n",
    "        print(f\"{sentence} is a valid sentence.\")\n",
    "    else:\n",
    "        print(f\"{sentence} is not a valid sentence.\")"
   ]
  },
  {
   "cell_type": "code",
   "execution_count": null,
   "metadata": {},
   "outputs": [],
   "source": []
  }
 ],
 "metadata": {
  "kernelspec": {
   "display_name": "Python 3",
   "language": "python",
   "name": "python3"
  },
  "language_info": {
   "codemirror_mode": {
    "name": "ipython",
    "version": 3
   },
   "file_extension": ".py",
   "mimetype": "text/x-python",
   "name": "python",
   "nbconvert_exporter": "python",
   "pygments_lexer": "ipython3",
   "version": "3.11.9"
  }
 },
 "nbformat": 4,
 "nbformat_minor": 2
}
