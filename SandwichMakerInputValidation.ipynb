{
 "cells": [
  {
   "cell_type": "code",
   "execution_count": 9,
   "metadata": {},
   "outputs": [],
   "source": [
    "# Ask for user preferences with inputMenu(): bread type (wheat, white, sourdough), protein type (chicken, turkey, ham, or tofu).\n",
    "# Ask if they want cheese using inputYesNo(). Uf they say yes, ask for cheese type using inputMenu(): cheddar, swiss, or mozzarella.\n",
    "# Ask if they want mayo, mustard, lettuce, or tomato using inputYesNo().\n",
    "# Using inputInt() ask for how many sandwiches they want. Make sure they enter a number greater than 0.\n",
    "# Come up with prices for each of the options and calculate the total cost.\n",
    "\n",
    "import pyinputplus as pyip\n",
    "\n",
    "prices = {\n",
    "    'wheat': 1.0,\n",
    "    'white': 1.0,\n",
    "    'sourdough': 1.5,\n",
    "    'chicken': 2.0,\n",
    "    'turkey': 2.5,\n",
    "    'ham': 2.0,\n",
    "    'tofu': 1.5,\n",
    "    'cheddar': 0.5,\n",
    "    'swiss': 0.5,\n",
    "    'mozzarella': 0.5,\n",
    "    'mayo': 0.2,\n",
    "    'mustard': 0.2,\n",
    "    'lettuce': 0.2,\n",
    "    'tomato': 0.2\n",
    "}"
   ]
  },
  {
   "cell_type": "code",
   "execution_count": 10,
   "metadata": {},
   "outputs": [],
   "source": [
    "TotalSandwiches = 0\n",
    "TotalCost = 0\n",
    "SandwichCost = 0"
   ]
  },
  {
   "cell_type": "code",
   "execution_count": 11,
   "metadata": {},
   "outputs": [
    {
     "name": "stdout",
     "output_type": "stream",
     "text": [
      "What type of bread would you like?\n",
      "* wheat\n",
      "* white\n",
      "* sourdough\n",
      "What type of protein would you like?\n",
      "* chicken\n",
      "* turkey\n",
      "* ham\n",
      "* tofu\n"
     ]
    }
   ],
   "source": [
    "UserPreferences = pyip.inputMenu(choices=['wheat', 'white', 'sourdough'], prompt='What type of bread would you like?\\n')\n",
    "ProteinType = pyip.inputMenu(choices=['chicken', 'turkey', 'ham', 'tofu'], prompt='What type of protein would you like?\\n')\n",
    "SandwichCost += prices[UserPreferences] + prices[ProteinType]"
   ]
  },
  {
   "cell_type": "code",
   "execution_count": 12,
   "metadata": {},
   "outputs": [
    {
     "name": "stdout",
     "output_type": "stream",
     "text": [
      "Would you like cheese?\n",
      "What type of cheese would you like?\n",
      "* cheddar\n",
      "* swiss\n",
      "* mozzarella\n"
     ]
    }
   ],
   "source": [
    "CheeseInput = pyip.inputYesNo(prompt='Would you like cheese?\\n')\n",
    "if CheeseInput == 'yes':\n",
    "    CheeseType = pyip.inputMenu(choices=['cheddar', 'swiss', 'mozzarella'], prompt='What type of cheese would you like?\\n')\n",
    "    SandwichCost += prices[CheeseType]\n",
    "else:\n",
    "    print('No cheese for you!')"
   ]
  },
  {
   "cell_type": "code",
   "execution_count": 13,
   "metadata": {},
   "outputs": [
    {
     "name": "stdout",
     "output_type": "stream",
     "text": [
      "Would you like mayo, mustard, lettuce, or tomato?\n",
      "What topping would you like?\n",
      "* mayo\n",
      "* mustard\n",
      "* lettuce\n",
      "* tomato\n"
     ]
    }
   ],
   "source": [
    "ToppingInput = pyip.inputYesNo(prompt='Would you like mayo, mustard, lettuce, or tomato?\\n')\n",
    "if ToppingInput == 'yes':\n",
    "    Toppings = pyip.inputMenu(choices=['mayo', 'mustard', 'lettuce', 'tomato'], prompt='What topping would you like?\\n')\n",
    "    SandwichCost += prices[Toppings]"
   ]
  },
  {
   "cell_type": "code",
   "execution_count": 14,
   "metadata": {},
   "outputs": [
    {
     "name": "stdout",
     "output_type": "stream",
     "text": [
      "How many sandwiches would you like?\n",
      "Total cost for 2 sandwich(es) is: $8.40\n"
     ]
    }
   ],
   "source": [
    "TotalSandwiches = pyip.inputInt(prompt='How many sandwiches would you like?\\n', min=1)\n",
    "TotalCost = TotalSandwiches * SandwichCost\n",
    "print(f'Total cost for {TotalSandwiches} sandwich(es) is: ${TotalCost:.2f}')"
   ]
  }
 ],
 "metadata": {
  "kernelspec": {
   "display_name": "Python 3",
   "language": "python",
   "name": "python3"
  },
  "language_info": {
   "codemirror_mode": {
    "name": "ipython",
    "version": 3
   },
   "file_extension": ".py",
   "mimetype": "text/x-python",
   "name": "python",
   "nbconvert_exporter": "python",
   "pygments_lexer": "ipython3",
   "version": "3.11.9"
  }
 },
 "nbformat": 4,
 "nbformat_minor": 2
}
