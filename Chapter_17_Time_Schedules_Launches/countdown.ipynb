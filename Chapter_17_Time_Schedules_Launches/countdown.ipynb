{
 "cells": [
  {
   "cell_type": "code",
   "execution_count": 1,
   "metadata": {},
   "outputs": [],
   "source": [
    "#! python3\n",
    "# countdown.ipynb - A simple countdown script.\n",
    "# This script will count down from 60 and play an alarm at 0."
   ]
  },
  {
   "cell_type": "code",
   "execution_count": 2,
   "metadata": {},
   "outputs": [],
   "source": [
    "import time, subprocess, platform"
   ]
  },
  {
   "cell_type": "code",
   "execution_count": null,
   "metadata": {},
   "outputs": [],
   "source": [
    "time_left = 60\n",
    "while time_left > 0:\n",
    "    print(time_left, end=' ')\n",
    "    time.sleep(1)\n",
    "    time_left -= 1\n",
    "\n",
    "# At the end of the countdown, play a sound file.\n",
    "if platform.system() == 'Darwin':  # macOS\n",
    "    subprocess.Popen(['open', 'alarm.wav'])\n",
    "elif platform.system() == 'Linux':  # Linux\n",
    "    subprocess.Popen(['xdg-open', 'alarm.wav'])\n",
    "elif platform.system() == 'Windows':  # Windows\n",
    "    subprocess.Popen(['start', 'alarm.wav'], shell=True)\n",
    "else:\n",
    "    print('Unsupported OS')\n",
    "\n",
    "print('Done')"
   ]
  }
 ],
 "metadata": {
  "kernelspec": {
   "display_name": "Python 3",
   "language": "python",
   "name": "python3"
  },
  "language_info": {
   "codemirror_mode": {
    "name": "ipython",
    "version": 3
   },
   "file_extension": ".py",
   "mimetype": "text/x-python",
   "name": "python",
   "nbconvert_exporter": "python",
   "pygments_lexer": "ipython3",
   "version": "3.9.6"
  }
 },
 "nbformat": 4,
 "nbformat_minor": 2
}
