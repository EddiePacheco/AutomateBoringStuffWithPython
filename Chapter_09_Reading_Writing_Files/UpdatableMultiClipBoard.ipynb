{
 "cells": [
  {
   "cell_type": "code",
   "execution_count": 1,
   "metadata": {},
   "outputs": [],
   "source": [
    "#! python 3\n",
    "# Saves and loads pieces of text to the clipboard.\n",
    "# Usage: python UpdatableMultiClipBoard.ipynb save <keyword> - Saves clipboard to keyword.\n",
    "#        python UpdatableMultiClipBoard.ipynb <keyword> - Loads keyword to clipboard.\n",
    "#        python UpdatableMultiClipBoard.ipynb list - Loads all keywords to clipboard."
   ]
  },
  {
   "cell_type": "code",
   "execution_count": 14,
   "metadata": {},
   "outputs": [],
   "source": [
    "import shelve, pyperclip, sys"
   ]
  },
  {
   "cell_type": "code",
   "execution_count": 15,
   "metadata": {},
   "outputs": [],
   "source": [
    "MCBShelf = shelve.open('mcb')"
   ]
  },
  {
   "cell_type": "code",
   "execution_count": 16,
   "metadata": {},
   "outputs": [],
   "source": [
    "# Save clipboard content.\n",
    "if len(sys.argv) == 3 and sys.argv[1].lower() == 'save':\n",
    "    MCBShelf[sys.argv[2]] = pyperclip.paste()\n",
    "elif len(sys.argv) == 3 and sys.argv[1].lower() == 'delete':\n",
    "    del MCBShelf[sys.argv[2]]\n",
    "elif len(sys.argv) == 2:\n",
    "    # List keywords and load content.\n",
    "    if sys.argv[1].lower() == 'delete':\n",
    "        for key in MCBShelf.keys():\n",
    "            del MCBShelf[key]\n",
    "    elif sys.argv[1].lower() == 'list':\n",
    "        pyperclip.copy(str(list(MCBShelf.keys())))\n",
    "    elif sys.argv[1] in MCBShelf:\n",
    "        pyperclip.copy(MCBShelf[sys.argv[1]])"
   ]
  },
  {
   "cell_type": "code",
   "execution_count": 17,
   "metadata": {},
   "outputs": [],
   "source": [
    "MCBShelf.close()"
   ]
  }
 ],
 "metadata": {
  "kernelspec": {
   "display_name": "Python 3",
   "language": "python",
   "name": "python3"
  },
  "language_info": {
   "codemirror_mode": {
    "name": "ipython",
    "version": 3
   },
   "file_extension": ".py",
   "mimetype": "text/x-python",
   "name": "python",
   "nbconvert_exporter": "python",
   "pygments_lexer": "ipython3",
   "version": "3.11.9"
  }
 },
 "nbformat": 4,
 "nbformat_minor": 2
}
